{
 "cells": [
  {
   "cell_type": "code",
   "execution_count": null,
   "id": "3abd887b",
   "metadata": {},
   "outputs": [],
   "source": [
    "import requests\n",
    "from bs4 import BeautifulSoup\n",
    "from urllib.parse import urlparse\n",
    "import csv\n",
    "import os\n",
    "\n",
    "# Function to fetch and summarize a webpage\n",
    "def summarize_webpage(url):\n",
    "    try:\n",
    "        response = requests.get(url)\n",
    "        response.raise_for_status()\n",
    "\n",
    "        soup = BeautifulSoup(response.content, 'html.parser')\n",
    "        paragraphs = soup.find_all('p')\n",
    "        \n",
    "        # Summarizing paragraphs starting from the fourth one\n",
    "        summary = ' '.join([p.get_text() for p in paragraphs[3:5]])\n",
    "\n",
    "        return summary\n",
    "    except Exception as e:\n",
    "        return f\"An error occurred: {e}\"\n",
    "\n",
    "    \n",
    "# Read list of URLs from a text file\n",
    "def read_urls_from_file(filename):\n",
    "    with open(filename, 'r') as file:\n",
    "        urls = file.read().splitlines()\n",
    "    return urls\n",
    "\n",
    "# Create a directory to store summaries if not exists\n",
    "output_directory = 'summaries'\n",
    "if not os.path.exists(output_directory):\n",
    "    os.makedirs(output_directory)\n",
    "\n",
    "# Read URLs from the input file\n",
    "input_filename = 'urls.txt'\n",
    "urls = read_urls_from_file(input_filename)\n",
    "\n",
    "# Create and open a CSV file to store the summaries\n",
    "csv_filename = 'summaries.csv'\n",
    "with open(os.path.join(output_directory, csv_filename), 'w', newline='', encoding='utf-8') as csv_file:\n",
    "    csv_writer = csv.writer(csv_file)\n",
    "    csv_writer.writerow(['URL', 'Summary'])  # Write header\n",
    "\n",
    "    # Process each URL\n",
    "    for url in urls:\n",
    "        summary = summarize_webpage(url)\n",
    "        csv_writer.writerow([url, summary])\n",
    "\n",
    "        print(f\"Summary for {url} has been added to {csv_filename}\")\n"
   ]
  },
  {
   "cell_type": "code",
   "execution_count": null,
   "id": "8f7bb4e1",
   "metadata": {},
   "outputs": [],
   "source": []
  },
  {
   "cell_type": "code",
   "execution_count": null,
   "id": "f9d713c3",
   "metadata": {},
   "outputs": [],
   "source": []
  },
  {
   "cell_type": "code",
   "execution_count": null,
   "id": "7ef4c8e7",
   "metadata": {},
   "outputs": [],
   "source": []
  }
 ],
 "metadata": {
  "kernelspec": {
   "display_name": "Python 3 (ipykernel)",
   "language": "python",
   "name": "python3"
  },
  "language_info": {
   "codemirror_mode": {
    "name": "ipython",
    "version": 3
   },
   "file_extension": ".py",
   "mimetype": "text/x-python",
   "name": "python",
   "nbconvert_exporter": "python",
   "pygments_lexer": "ipython3",
   "version": "3.8.16"
  }
 },
 "nbformat": 4,
 "nbformat_minor": 5
}
