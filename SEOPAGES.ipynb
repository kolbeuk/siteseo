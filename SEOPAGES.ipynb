{
 "cells": [
  {
   "cell_type": "code",
   "execution_count": 1,
   "id": "46736a46",
   "metadata": {},
   "outputs": [
    {
     "name": "stdout",
     "output_type": "stream",
     "text": [
      "Keyword counts:\n",
      "creativity: 7\n",
      "digital strategy: 0\n",
      "banks with online banking: 0\n",
      "fixed mindset: 0\n",
      "fintech: 1\n",
      "growth mindset: 1\n",
      "innovation: 7\n",
      "leaders in transformation: 0\n",
      "leadership and transformation: 0\n",
      "learning in machine learning: 0\n",
      "machine learning: 0\n",
      "online banks: 0\n",
      "problem solving: 1\n",
      "problem solving skills: 0\n",
      "prototyping: 1\n",
      "transformational leadership: 0\n",
      "\n",
      "Exceptions:\n",
      "Keyword 'learning in machine learning' was not found in any URL.\n",
      "Keyword 'banks with online banking' was not found in any URL.\n",
      "Keyword 'fixed mindset' was not found in any URL.\n",
      "Keyword 'leaders in transformation' was not found in any URL.\n",
      "Keyword 'leadership and transformation' was not found in any URL.\n",
      "Keyword 'machine learning' was not found in any URL.\n",
      "Keyword 'transformational leadership' was not found in any URL.\n",
      "Keyword 'online banks' was not found in any URL.\n",
      "Keyword 'problem solving skills' was not found in any URL.\n",
      "Keyword 'digital strategy' was not found in any URL.\n"
     ]
    }
   ],
   "source": [
    "import requests\n",
    "from bs4 import BeautifulSoup\n",
    "\n",
    "def get_urls_from_sitemap(sitemap_url):\n",
    "    response = requests.get(sitemap_url)\n",
    "    soup = BeautifulSoup(response.content, 'xml')\n",
    "    urls = [loc.text for loc in soup.find_all('loc')]\n",
    "    return urls\n",
    "\n",
    "def keywords_in_url(url, keywords):\n",
    "    response = requests.get(url)\n",
    "    keywords_found = []\n",
    "    for keyword in keywords:\n",
    "        if keyword.lower() in response.text.lower():\n",
    "            keywords_found.append(keyword)\n",
    "    return keywords_found\n",
    "\n",
    "def load_keywords_from_file(filename):\n",
    "    with open(filename, 'r') as file:\n",
    "        return [line.strip() for line in file if line.strip()]\n",
    "\n",
    "def main():\n",
    "    sitemap_url = 'https://www.davidkolbconsultancy.com/pages-sitemap.xml'  # Replace with the actual sitemap URL\n",
    "    keywords = load_keywords_from_file('keywords.txt')\n",
    "    keywords_not_found = set(keywords)\n",
    "    keyword_counts = {keyword: 0 for keyword in keywords}\n",
    "\n",
    "    urls = get_urls_from_sitemap(sitemap_url)\n",
    "    for url in urls:\n",
    "        found_keywords = keywords_in_url(url, keywords)\n",
    "        for keyword in found_keywords:\n",
    "            keyword_counts[keyword] += 1\n",
    "            keywords_not_found.discard(keyword)\n",
    "\n",
    "    print(\"Keyword counts:\")\n",
    "    for keyword, count in keyword_counts.items():\n",
    "        print(f\"{keyword}: {count}\")\n",
    "\n",
    "    if keywords_not_found:\n",
    "        print(\"\\nExceptions:\")\n",
    "        for keyword in keywords_not_found:\n",
    "            print(f\"Keyword '{keyword}' was not found in any URL.\")\n",
    "\n",
    "if __name__ == '__main__':\n",
    "    main()\n"
   ]
  },
  {
   "cell_type": "code",
   "execution_count": null,
   "id": "3b336a05",
   "metadata": {},
   "outputs": [],
   "source": []
  }
 ],
 "metadata": {
  "kernelspec": {
   "display_name": "Python 3 (ipykernel)",
   "language": "python",
   "name": "python3"
  },
  "language_info": {
   "codemirror_mode": {
    "name": "ipython",
    "version": 3
   },
   "file_extension": ".py",
   "mimetype": "text/x-python",
   "name": "python",
   "nbconvert_exporter": "python",
   "pygments_lexer": "ipython3",
   "version": "3.8.16"
  }
 },
 "nbformat": 4,
 "nbformat_minor": 5
}
