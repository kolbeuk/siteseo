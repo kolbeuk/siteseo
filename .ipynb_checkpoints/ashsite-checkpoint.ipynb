{
 "cells": [
  {
   "cell_type": "code",
   "execution_count": 5,
   "id": "7dd15658-c1fc-4144-93bc-47294dd3fb48",
   "metadata": {},
   "outputs": [
    {
     "ename": "ParseError",
     "evalue": "not well-formed (invalid token): line 1, column 0 (<string>)",
     "output_type": "error",
     "traceback": [
      "Traceback \u001b[0;36m(most recent call last)\u001b[0m:\n",
      "\u001b[0m  File \u001b[1;32m~/opt/anaconda3/lib/python3.8/site-packages/IPython/core/interactiveshell.py:3460\u001b[0m in \u001b[1;35mrun_code\u001b[0m\n    exec(code_obj, self.user_global_ns, self.user_ns)\u001b[0m\n",
      "\u001b[0m  Cell \u001b[1;32mIn[5], line 6\u001b[0m\n    tree = ET.parse('sitemap.xml')\u001b[0m\n",
      "\u001b[0m  File \u001b[1;32m~/opt/anaconda3/lib/python3.8/xml/etree/ElementTree.py:1202\u001b[0m in \u001b[1;35mparse\u001b[0m\n    tree.parse(source, parser)\u001b[0m\n",
      "\u001b[0;36m  File \u001b[0;32m~/opt/anaconda3/lib/python3.8/xml/etree/ElementTree.py:595\u001b[0;36m in \u001b[0;35mparse\u001b[0;36m\n\u001b[0;31m    self._root = parser._parse_whole(source)\u001b[0;36m\n",
      "\u001b[0;36m  File \u001b[0;32m<string>\u001b[0;36m\u001b[0m\n\u001b[0;31mParseError\u001b[0m\u001b[0;31m:\u001b[0m not well-formed (invalid token): line 1, column 0\n"
     ]
    }
   ],
   "source": [
    "import xml.etree.ElementTree as ET\n",
    "import requests\n",
    "from bs4 import BeautifulSoup\n",
    "\n",
    "# Parse the XML file\n",
    "tree = ET.parse('sitemap.xml')\n",
    "root = tree.getroot()\n",
    "\n",
    "# Iterate through each URL in the XML\n",
    "for url_elem in root.findall('.//url'):\n",
    "    link = url_elem.find('link').text\n",
    "\n",
    "    # Send a GET request to the URL\n",
    "    response = requests.get(link)\n",
    "\n",
    "    # Check if the request was successful\n",
    "    if response.status_code == 200:\n",
    "        # Parse the HTML content\n",
    "        soup = BeautifulSoup(response.text, 'html.parser')\n",
    "\n",
    "        # Extract the title and meta description\n",
    "        title = soup.find('title').text.strip() if soup.find('title') else 'N/A'\n",
    "        meta_description = soup.find('meta', attrs={'name': 'description'})\n",
    "        meta_description = meta_description['content'].strip() if meta_description else 'N/A'\n",
    "\n",
    "        # Output the URL, title, and meta description\n",
    "        print(f\"URL: {link}\")\n",
    "        print(f\"Title: {title}\")\n",
    "        print(f\"Meta Description: {meta_description}\")\n",
    "        print()\n",
    "    else:\n",
    "        print(f\"Failed to fetch URL: {link}\")\n",
    "\n"
   ]
  },
  {
   "cell_type": "code",
   "execution_count": null,
   "id": "acb6bbbb-6882-4d18-b3ad-0b3a21205e12",
   "metadata": {},
   "outputs": [],
   "source": []
  },
  {
   "cell_type": "code",
   "execution_count": null,
   "id": "3afe4231",
   "metadata": {},
   "outputs": [],
   "source": []
  }
 ],
 "metadata": {
  "kernelspec": {
   "display_name": "Python 3 (ipykernel)",
   "language": "python",
   "name": "python3"
  },
  "language_info": {
   "codemirror_mode": {
    "name": "ipython",
    "version": 3
   },
   "file_extension": ".py",
   "mimetype": "text/x-python",
   "name": "python",
   "nbconvert_exporter": "python",
   "pygments_lexer": "ipython3",
   "version": "3.8.16"
  }
 },
 "nbformat": 4,
 "nbformat_minor": 5
}
