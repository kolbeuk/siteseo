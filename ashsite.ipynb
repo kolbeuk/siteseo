{
 "cells": [
  {
   "cell_type": "code",
   "execution_count": null,
   "id": "7dd15658-c1fc-4144-93bc-47294dd3fb48",
   "metadata": {},
   "outputs": [],
   "source": [
    "import requests\n",
    "from bs4 import BeautifulSoup\n",
    "\n",
    "# Single URL to get meta data from\n",
    "url = \"url\"\n",
    "\n",
    "# Function to get meta title and description\n",
    "def get_meta_data(single_url):\n",
    "    try:\n",
    "        response = requests.get(single_url)\n",
    "        response.raise_for_status()  # Raise an error if the HTTP request returned an unsuccessful status code\n",
    "        soup = BeautifulSoup(response.content, 'html.parser')\n",
    "        title = soup.find('title').get_text() if soup.find('title') else 'No title found'\n",
    "        description = soup.find('meta', attrs={'name': 'description'})['content'] if soup.find('meta', attrs={'name': 'description'}) else 'No description found'\n",
    "        return title, description\n",
    "    except requests.HTTPError as e:\n",
    "        print(f'HTTP error occurred: {e}')\n",
    "    except requests.RequestException as e:\n",
    "        print(f'Error during requests to {single_url}: {e}')\n",
    "    except Exception as e:\n",
    "        print(f'Error while parsing {single_url}: {e}')\n",
    "\n",
    "    return 'Failed to retrieve', 'Failed to retrieve'\n",
    "\n",
    "# Get and print meta title and description for the single URL\n",
    "title, description = get_meta_data(url)\n",
    "print(f'URL: {url}')\n",
    "print(f'Title: {title}')\n",
    "print(f'Description: {description}')\n"
   ]
  },
  {
   "cell_type": "code",
   "execution_count": null,
   "id": "acb6bbbb-6882-4d18-b3ad-0b3a21205e12",
   "metadata": {},
   "outputs": [],
   "source": []
  },
  {
   "cell_type": "code",
   "execution_count": null,
   "id": "3afe4231",
   "metadata": {},
   "outputs": [],
   "source": []
  }
 ],
 "metadata": {
  "kernelspec": {
   "display_name": "Python 3 (ipykernel)",
   "language": "python",
   "name": "python3"
  },
  "language_info": {
   "codemirror_mode": {
    "name": "ipython",
    "version": 3
   },
   "file_extension": ".py",
   "mimetype": "text/x-python",
   "name": "python",
   "nbconvert_exporter": "python",
   "pygments_lexer": "ipython3",
   "version": "3.8.16"
  }
 },
 "nbformat": 4,
 "nbformat_minor": 5
}
